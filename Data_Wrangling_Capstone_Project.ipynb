{
  "nbformat": 4,
  "nbformat_minor": 0,
  "metadata": {
    "colab": {
      "provenance": [],
      "gpuType": "T4"
    },
    "kernelspec": {
      "name": "python3",
      "display_name": "Python 3"
    },
    "language_info": {
      "name": "python"
    },
    "accelerator": "GPU"
  },
  "cells": [
    {
      "cell_type": "markdown",
      "source": [
        "# Transaction table\n",
        "“It contains money transfer and also other gifting goods and service, like you booked a ticket for others, etc.”\n",
        "\n",
        "`TransactionDT:` timedelta from a given reference datetime (not an actual timestamp)\n",
        "“TransactionDT first value is 86400, which corresponds to the number of seconds in a day (60 * 60 * 24 = 86400) so I think the unit is seconds. Using this, we know the data spans 6 months, as the maximum value is 15811131, which would correspond to day 183.”\n",
        "\n",
        "`TransactionAMT:` transaction payment amount in USD\n",
        "“Some of the transaction amounts have three decimal places to the right of the decimal point. There seems to be a link to three decimal places and a blank addr1 and addr2 field. Is it possible that these are foreign transactions and that, for example, the 75.887 in row 12 is the result of multiplying a foreign currency amount by an exchange rate?”\n",
        "\n",
        "`ProductCD:` product code, the product for each transaction\n",
        "“Product isn't necessary to be a real 'product' (like one item to be added to the shopping cart). It could be any kind of service.”\n",
        "\n",
        "`card1 - card6:` payment card information, such as card type, card category, issue bank, country, etc.\n",
        "\n",
        "`addr:` address\n",
        "“both addresses are for purchaser\n",
        "addr1 as billing region\n",
        "addr2 as billing country”\n",
        "\n",
        "`dist:` distance\n",
        "\"distances between (not limited) billing address, mailing address, zip code, IP address, phone area, etc.”\n",
        "\n",
        "`P_ and (R__) emaildomain:` purchaser and recipient email domain\n",
        "“ certain transactions don't need recipient, so R_emaildomain is null.”\n",
        "\n",
        "`C1-C14:` counting, such as how many addresses are found to be associated with the payment card, etc. The actual meaning is masked.\n",
        "\n",
        "`D1-D15:` timedelta, such as days between previous transaction, etc.\n",
        "\n",
        "`M1-M9:` match, such as names on card and address, etc.\n"
      ],
      "metadata": {
        "id": "u3UCB3fHu24F"
      }
    },
    {
      "cell_type": "markdown",
      "source": [
        "# Identity Table \n",
        "Variables in this table are identity information – network connection information (IP, ISP, Proxy, etc) and digital signature (UA/browser/os/version, etc) associated with transactions.\n",
        "They're collected by Vesta’s fraud protection system and digital security partners.\n",
        "(The field names are masked and pairwise dictionary will not be provided for privacy protection and contract agreement)\n",
        "\n",
        "DeviceInfo : https://www.kaggle.com/c/ieee-fraud-detection/discussion/101203#583227\n",
        "\n",
        "“`id01 to id11` are numerical features for identity, which is collected by Vesta and security partners such as device` rating, ip_domain rating, proxy rating, etc. Also it recorded behavioral fingerprint like account login times/failed to login times, how long an account stayed on the page, etc. All of these are not able to elaborate due to security partner T&C. I hope you could get basic meaning of these features, and by mentioning them as numerical/categorical, you won't deal with them inappropriately.”"
      ],
      "metadata": {
        "id": "PglEt_P3vMXS"
      }
    },
    {
      "cell_type": "markdown",
      "source": [
        "[Link to Kaggle Dataset IEEE-CIS Fraud Detection](https://www.kaggle.com/competitions/ieee-fraud-detection/data?select=train_identity.csv)"
      ],
      "metadata": {
        "id": "s67z7-AzeOZC"
      }
    },
    {
      "cell_type": "code",
      "source": [
        "# Import Google Drive\n",
        "from google.colab import drive\n",
        "drive.mount('/content/drive')"
      ],
      "metadata": {
        "id": "_JY2yby2flzf",
        "colab": {
          "base_uri": "https://localhost:8080/"
        },
        "outputId": "8f385dcd-e4e8-45d7-f469-088279d0922b"
      },
      "execution_count": 2,
      "outputs": [
        {
          "output_type": "stream",
          "name": "stdout",
          "text": [
            "Mounted at /content/drive\n"
          ]
        }
      ]
    },
    {
      "cell_type": "code",
      "execution_count": 3,
      "metadata": {
        "colab": {
          "base_uri": "https://localhost:8080/"
        },
        "id": "-sqMQqQ51skB",
        "outputId": "416cea98-383a-4bb8-ecd7-1a2633cd0a37"
      },
      "outputs": [
        {
          "output_type": "stream",
          "name": "stdout",
          "text": [
            "Downloading ieee-fraud-detection.zip to /content\n",
            " 99% 117M/118M [00:06<00:00, 24.1MB/s]\n",
            "100% 118M/118M [00:06<00:00, 19.0MB/s]\n",
            "Archive:  /content/ieee-fraud-detection.zip\n",
            "  inflating: sample_submission.csv   \n",
            "  inflating: test_identity.csv       \n",
            "  inflating: test_transaction.csv    \n",
            "  inflating: train_identity.csv      \n",
            "  inflating: train_transaction.csv   \n"
          ]
        }
      ],
      "source": [
        "# Connect Kaggle\n",
        "!mkdir ~/.kaggle\n",
        "!cp /content/drive/MyDrive/Springboard/kaggle.json ~/.kaggle/\n",
        "!chmod 600 ~/.kaggle/kaggle.json\n",
        "\n",
        "# 1 includes product ingredients\n",
        "#!kaggle datasets download -d ealaxi/paysim1\n",
        "!kaggle competitions download -c ieee-fraud-detection\n",
        "\n",
        "# Unzip file\n",
        "!unzip /content/ieee-fraud-detection.zip"
      ]
    },
    {
      "cell_type": "code",
      "source": [
        "# import necessary packages\n",
        "import pandas as pd\n",
        "import numpy as np"
      ],
      "metadata": {
        "id": "AQH3iEALVHhx"
      },
      "execution_count": 4,
      "outputs": []
    },
    {
      "cell_type": "code",
      "source": [
        "# paths and reading files to dataframe\n",
        "train_id_path = '/content/train_identity.csv'\n",
        "train_trans_path = '/content/train_transaction.csv'\n",
        "\n",
        "id_df = pd.read_csv(train_id_path)\n",
        "trans_df = pd.read_csv(train_trans_path)"
      ],
      "metadata": {
        "id": "pP5urV56U_eH"
      },
      "execution_count": 5,
      "outputs": []
    },
    {
      "cell_type": "code",
      "source": [
        "# data type check\n",
        "print(type(id_df))\n",
        "print(type(trans_df))"
      ],
      "metadata": {
        "id": "ycML2e7mv52y",
        "colab": {
          "base_uri": "https://localhost:8080/"
        },
        "outputId": "89332c33-1b3e-44a1-bf37-f60beb730768"
      },
      "execution_count": 6,
      "outputs": [
        {
          "output_type": "stream",
          "name": "stdout",
          "text": [
            "<class 'pandas.core.frame.DataFrame'>\n",
            "<class 'pandas.core.frame.DataFrame'>\n"
          ]
        }
      ]
    },
    {
      "cell_type": "code",
      "source": [
        "# modify identity dataframe to only include DeviceType and DeviceInfo\n",
        "id_df = id_df[['TransactionID','DeviceType','DeviceInfo']]"
      ],
      "metadata": {
        "id": "iJkNg9c6Ogfb"
      },
      "execution_count": 7,
      "outputs": []
    },
    {
      "cell_type": "code",
      "source": [
        "trans_df = trans_df[['TransactionID','isFraud','TransactionAmt','ProductCD',\n",
        "                     'card1','card2','card3','card4','card5','card6',\n",
        "                     'addr1','addr2',\n",
        "                     'P_emaildomain','R_emaildomain']]"
      ],
      "metadata": {
        "id": "Obktlp_LouHX"
      },
      "execution_count": 9,
      "outputs": []
    },
    {
      "cell_type": "code",
      "source": [
        "# left join to ensure that no transaction information is excluded\n",
        "merged_df = pd.merge(trans_df, id_df, on='TransactionID', how='left')"
      ],
      "metadata": {
        "id": "yTjZbxb0KAFG"
      },
      "execution_count": 10,
      "outputs": []
    },
    {
      "cell_type": "code",
      "source": [
        "print('DataFrame Information:')\n",
        "print(merged_df.info())"
      ],
      "metadata": {
        "colab": {
          "base_uri": "https://localhost:8080/"
        },
        "id": "oP8Ntc-0Pj8F",
        "outputId": "dc678694-7b60-4337-b0ff-424d4fd0c1d1"
      },
      "execution_count": 11,
      "outputs": [
        {
          "output_type": "stream",
          "name": "stdout",
          "text": [
            "DataFrame Information:\n",
            "<class 'pandas.core.frame.DataFrame'>\n",
            "Int64Index: 590540 entries, 0 to 590539\n",
            "Data columns (total 16 columns):\n",
            " #   Column          Non-Null Count   Dtype  \n",
            "---  ------          --------------   -----  \n",
            " 0   TransactionID   590540 non-null  int64  \n",
            " 1   isFraud         590540 non-null  int64  \n",
            " 2   TransactionAmt  590540 non-null  float64\n",
            " 3   ProductCD       590540 non-null  object \n",
            " 4   card1           590540 non-null  int64  \n",
            " 5   card2           581607 non-null  float64\n",
            " 6   card3           588975 non-null  float64\n",
            " 7   card4           588963 non-null  object \n",
            " 8   card5           586281 non-null  float64\n",
            " 9   card6           588969 non-null  object \n",
            " 10  addr1           524834 non-null  float64\n",
            " 11  addr2           524834 non-null  float64\n",
            " 12  P_emaildomain   496084 non-null  object \n",
            " 13  R_emaildomain   137291 non-null  object \n",
            " 14  DeviceType      140810 non-null  object \n",
            " 15  DeviceInfo      118666 non-null  object \n",
            "dtypes: float64(6), int64(3), object(7)\n",
            "memory usage: 76.6+ MB\n",
            "None\n"
          ]
        }
      ]
    },
    {
      "cell_type": "code",
      "source": [
        "# show first five rows\n",
        "merged_df.head()"
      ],
      "metadata": {
        "id": "vYj2CrWqWaky",
        "colab": {
          "base_uri": "https://localhost:8080/",
          "height": 302
        },
        "outputId": "ddd67df9-e0a6-4605-e391-8c03d530af71"
      },
      "execution_count": 12,
      "outputs": [
        {
          "output_type": "execute_result",
          "data": {
            "text/plain": [
              "   TransactionID  isFraud  TransactionAmt ProductCD  card1  card2  card3  \\\n",
              "0        2987000        0            68.5         W  13926    NaN  150.0   \n",
              "1        2987001        0            29.0         W   2755  404.0  150.0   \n",
              "2        2987002        0            59.0         W   4663  490.0  150.0   \n",
              "3        2987003        0            50.0         W  18132  567.0  150.0   \n",
              "4        2987004        0            50.0         H   4497  514.0  150.0   \n",
              "\n",
              "        card4  card5   card6  addr1  addr2 P_emaildomain R_emaildomain  \\\n",
              "0    discover  142.0  credit  315.0   87.0           NaN           NaN   \n",
              "1  mastercard  102.0  credit  325.0   87.0     gmail.com           NaN   \n",
              "2        visa  166.0   debit  330.0   87.0   outlook.com           NaN   \n",
              "3  mastercard  117.0   debit  476.0   87.0     yahoo.com           NaN   \n",
              "4  mastercard  102.0  credit  420.0   87.0     gmail.com           NaN   \n",
              "\n",
              "  DeviceType                     DeviceInfo  \n",
              "0        NaN                            NaN  \n",
              "1        NaN                            NaN  \n",
              "2        NaN                            NaN  \n",
              "3        NaN                            NaN  \n",
              "4     mobile  SAMSUNG SM-G892A Build/NRD90M  "
            ],
            "text/html": [
              "\n",
              "  <div id=\"df-fb109a26-cbda-44d3-8b83-1dc35ba4a2d7\">\n",
              "    <div class=\"colab-df-container\">\n",
              "      <div>\n",
              "<style scoped>\n",
              "    .dataframe tbody tr th:only-of-type {\n",
              "        vertical-align: middle;\n",
              "    }\n",
              "\n",
              "    .dataframe tbody tr th {\n",
              "        vertical-align: top;\n",
              "    }\n",
              "\n",
              "    .dataframe thead th {\n",
              "        text-align: right;\n",
              "    }\n",
              "</style>\n",
              "<table border=\"1\" class=\"dataframe\">\n",
              "  <thead>\n",
              "    <tr style=\"text-align: right;\">\n",
              "      <th></th>\n",
              "      <th>TransactionID</th>\n",
              "      <th>isFraud</th>\n",
              "      <th>TransactionAmt</th>\n",
              "      <th>ProductCD</th>\n",
              "      <th>card1</th>\n",
              "      <th>card2</th>\n",
              "      <th>card3</th>\n",
              "      <th>card4</th>\n",
              "      <th>card5</th>\n",
              "      <th>card6</th>\n",
              "      <th>addr1</th>\n",
              "      <th>addr2</th>\n",
              "      <th>P_emaildomain</th>\n",
              "      <th>R_emaildomain</th>\n",
              "      <th>DeviceType</th>\n",
              "      <th>DeviceInfo</th>\n",
              "    </tr>\n",
              "  </thead>\n",
              "  <tbody>\n",
              "    <tr>\n",
              "      <th>0</th>\n",
              "      <td>2987000</td>\n",
              "      <td>0</td>\n",
              "      <td>68.5</td>\n",
              "      <td>W</td>\n",
              "      <td>13926</td>\n",
              "      <td>NaN</td>\n",
              "      <td>150.0</td>\n",
              "      <td>discover</td>\n",
              "      <td>142.0</td>\n",
              "      <td>credit</td>\n",
              "      <td>315.0</td>\n",
              "      <td>87.0</td>\n",
              "      <td>NaN</td>\n",
              "      <td>NaN</td>\n",
              "      <td>NaN</td>\n",
              "      <td>NaN</td>\n",
              "    </tr>\n",
              "    <tr>\n",
              "      <th>1</th>\n",
              "      <td>2987001</td>\n",
              "      <td>0</td>\n",
              "      <td>29.0</td>\n",
              "      <td>W</td>\n",
              "      <td>2755</td>\n",
              "      <td>404.0</td>\n",
              "      <td>150.0</td>\n",
              "      <td>mastercard</td>\n",
              "      <td>102.0</td>\n",
              "      <td>credit</td>\n",
              "      <td>325.0</td>\n",
              "      <td>87.0</td>\n",
              "      <td>gmail.com</td>\n",
              "      <td>NaN</td>\n",
              "      <td>NaN</td>\n",
              "      <td>NaN</td>\n",
              "    </tr>\n",
              "    <tr>\n",
              "      <th>2</th>\n",
              "      <td>2987002</td>\n",
              "      <td>0</td>\n",
              "      <td>59.0</td>\n",
              "      <td>W</td>\n",
              "      <td>4663</td>\n",
              "      <td>490.0</td>\n",
              "      <td>150.0</td>\n",
              "      <td>visa</td>\n",
              "      <td>166.0</td>\n",
              "      <td>debit</td>\n",
              "      <td>330.0</td>\n",
              "      <td>87.0</td>\n",
              "      <td>outlook.com</td>\n",
              "      <td>NaN</td>\n",
              "      <td>NaN</td>\n",
              "      <td>NaN</td>\n",
              "    </tr>\n",
              "    <tr>\n",
              "      <th>3</th>\n",
              "      <td>2987003</td>\n",
              "      <td>0</td>\n",
              "      <td>50.0</td>\n",
              "      <td>W</td>\n",
              "      <td>18132</td>\n",
              "      <td>567.0</td>\n",
              "      <td>150.0</td>\n",
              "      <td>mastercard</td>\n",
              "      <td>117.0</td>\n",
              "      <td>debit</td>\n",
              "      <td>476.0</td>\n",
              "      <td>87.0</td>\n",
              "      <td>yahoo.com</td>\n",
              "      <td>NaN</td>\n",
              "      <td>NaN</td>\n",
              "      <td>NaN</td>\n",
              "    </tr>\n",
              "    <tr>\n",
              "      <th>4</th>\n",
              "      <td>2987004</td>\n",
              "      <td>0</td>\n",
              "      <td>50.0</td>\n",
              "      <td>H</td>\n",
              "      <td>4497</td>\n",
              "      <td>514.0</td>\n",
              "      <td>150.0</td>\n",
              "      <td>mastercard</td>\n",
              "      <td>102.0</td>\n",
              "      <td>credit</td>\n",
              "      <td>420.0</td>\n",
              "      <td>87.0</td>\n",
              "      <td>gmail.com</td>\n",
              "      <td>NaN</td>\n",
              "      <td>mobile</td>\n",
              "      <td>SAMSUNG SM-G892A Build/NRD90M</td>\n",
              "    </tr>\n",
              "  </tbody>\n",
              "</table>\n",
              "</div>\n",
              "      <button class=\"colab-df-convert\" onclick=\"convertToInteractive('df-fb109a26-cbda-44d3-8b83-1dc35ba4a2d7')\"\n",
              "              title=\"Convert this dataframe to an interactive table.\"\n",
              "              style=\"display:none;\">\n",
              "        \n",
              "  <svg xmlns=\"http://www.w3.org/2000/svg\" height=\"24px\"viewBox=\"0 0 24 24\"\n",
              "       width=\"24px\">\n",
              "    <path d=\"M0 0h24v24H0V0z\" fill=\"none\"/>\n",
              "    <path d=\"M18.56 5.44l.94 2.06.94-2.06 2.06-.94-2.06-.94-.94-2.06-.94 2.06-2.06.94zm-11 1L8.5 8.5l.94-2.06 2.06-.94-2.06-.94L8.5 2.5l-.94 2.06-2.06.94zm10 10l.94 2.06.94-2.06 2.06-.94-2.06-.94-.94-2.06-.94 2.06-2.06.94z\"/><path d=\"M17.41 7.96l-1.37-1.37c-.4-.4-.92-.59-1.43-.59-.52 0-1.04.2-1.43.59L10.3 9.45l-7.72 7.72c-.78.78-.78 2.05 0 2.83L4 21.41c.39.39.9.59 1.41.59.51 0 1.02-.2 1.41-.59l7.78-7.78 2.81-2.81c.8-.78.8-2.07 0-2.86zM5.41 20L4 18.59l7.72-7.72 1.47 1.35L5.41 20z\"/>\n",
              "  </svg>\n",
              "      </button>\n",
              "      \n",
              "  <style>\n",
              "    .colab-df-container {\n",
              "      display:flex;\n",
              "      flex-wrap:wrap;\n",
              "      gap: 12px;\n",
              "    }\n",
              "\n",
              "    .colab-df-convert {\n",
              "      background-color: #E8F0FE;\n",
              "      border: none;\n",
              "      border-radius: 50%;\n",
              "      cursor: pointer;\n",
              "      display: none;\n",
              "      fill: #1967D2;\n",
              "      height: 32px;\n",
              "      padding: 0 0 0 0;\n",
              "      width: 32px;\n",
              "    }\n",
              "\n",
              "    .colab-df-convert:hover {\n",
              "      background-color: #E2EBFA;\n",
              "      box-shadow: 0px 1px 2px rgba(60, 64, 67, 0.3), 0px 1px 3px 1px rgba(60, 64, 67, 0.15);\n",
              "      fill: #174EA6;\n",
              "    }\n",
              "\n",
              "    [theme=dark] .colab-df-convert {\n",
              "      background-color: #3B4455;\n",
              "      fill: #D2E3FC;\n",
              "    }\n",
              "\n",
              "    [theme=dark] .colab-df-convert:hover {\n",
              "      background-color: #434B5C;\n",
              "      box-shadow: 0px 1px 3px 1px rgba(0, 0, 0, 0.15);\n",
              "      filter: drop-shadow(0px 1px 2px rgba(0, 0, 0, 0.3));\n",
              "      fill: #FFFFFF;\n",
              "    }\n",
              "  </style>\n",
              "\n",
              "      <script>\n",
              "        const buttonEl =\n",
              "          document.querySelector('#df-fb109a26-cbda-44d3-8b83-1dc35ba4a2d7 button.colab-df-convert');\n",
              "        buttonEl.style.display =\n",
              "          google.colab.kernel.accessAllowed ? 'block' : 'none';\n",
              "\n",
              "        async function convertToInteractive(key) {\n",
              "          const element = document.querySelector('#df-fb109a26-cbda-44d3-8b83-1dc35ba4a2d7');\n",
              "          const dataTable =\n",
              "            await google.colab.kernel.invokeFunction('convertToInteractive',\n",
              "                                                     [key], {});\n",
              "          if (!dataTable) return;\n",
              "\n",
              "          const docLinkHtml = 'Like what you see? Visit the ' +\n",
              "            '<a target=\"_blank\" href=https://colab.research.google.com/notebooks/data_table.ipynb>data table notebook</a>'\n",
              "            + ' to learn more about interactive tables.';\n",
              "          element.innerHTML = '';\n",
              "          dataTable['output_type'] = 'display_data';\n",
              "          await google.colab.output.renderOutput(dataTable, element);\n",
              "          const docLink = document.createElement('div');\n",
              "          docLink.innerHTML = docLinkHtml;\n",
              "          element.appendChild(docLink);\n",
              "        }\n",
              "      </script>\n",
              "    </div>\n",
              "  </div>\n",
              "  "
            ]
          },
          "metadata": {},
          "execution_count": 12
        }
      ]
    },
    {
      "cell_type": "code",
      "source": [
        "#check for missing values\n",
        "merged_df.isnull().sum()"
      ],
      "metadata": {
        "colab": {
          "base_uri": "https://localhost:8080/"
        },
        "id": "nAsr1fDBY7yQ",
        "outputId": "0b1b38c0-3e12-4111-f19f-856eff1d4161"
      },
      "execution_count": 13,
      "outputs": [
        {
          "output_type": "execute_result",
          "data": {
            "text/plain": [
              "TransactionID          0\n",
              "isFraud                0\n",
              "TransactionAmt         0\n",
              "ProductCD              0\n",
              "card1                  0\n",
              "card2               8933\n",
              "card3               1565\n",
              "card4               1577\n",
              "card5               4259\n",
              "card6               1571\n",
              "addr1              65706\n",
              "addr2              65706\n",
              "P_emaildomain      94456\n",
              "R_emaildomain     453249\n",
              "DeviceType        449730\n",
              "DeviceInfo        471874\n",
              "dtype: int64"
            ]
          },
          "metadata": {},
          "execution_count": 13
        }
      ]
    },
    {
      "cell_type": "code",
      "source": [
        "# counts and percents unique values\n",
        "unique_counts = merged_df.nunique()\n",
        "print(f\"Unique Counts:\\n{unique_counts}\\n\")\n",
        "print(f\"Proportion of Unique Counts:\\n{unique_counts / len(merged_df)}\\n\")"
      ],
      "metadata": {
        "id": "qaRK59G1r3Yn",
        "colab": {
          "base_uri": "https://localhost:8080/"
        },
        "outputId": "d1fdf611-f652-45ac-a08d-5ab9f5617eff"
      },
      "execution_count": 14,
      "outputs": [
        {
          "output_type": "stream",
          "name": "stdout",
          "text": [
            "Unique Counts:\n",
            "TransactionID     590540\n",
            "isFraud                2\n",
            "TransactionAmt     20902\n",
            "ProductCD              5\n",
            "card1              13553\n",
            "card2                500\n",
            "card3                114\n",
            "card4                  4\n",
            "card5                119\n",
            "card6                  4\n",
            "addr1                332\n",
            "addr2                 74\n",
            "P_emaildomain         59\n",
            "R_emaildomain         60\n",
            "DeviceType             2\n",
            "DeviceInfo          1786\n",
            "dtype: int64\n",
            "\n",
            "Proportion of Unique Counts:\n",
            "TransactionID     1.000000\n",
            "isFraud           0.000003\n",
            "TransactionAmt    0.035395\n",
            "ProductCD         0.000008\n",
            "card1             0.022950\n",
            "card2             0.000847\n",
            "card3             0.000193\n",
            "card4             0.000007\n",
            "card5             0.000202\n",
            "card6             0.000007\n",
            "addr1             0.000562\n",
            "addr2             0.000125\n",
            "P_emaildomain     0.000100\n",
            "R_emaildomain     0.000102\n",
            "DeviceType        0.000003\n",
            "DeviceInfo        0.003024\n",
            "dtype: float64\n",
            "\n"
          ]
        }
      ]
    },
    {
      "cell_type": "code",
      "source": [
        "# show the unique values for card 4\n",
        "card4_counts = merged_df['card4'].value_counts()\n",
        "print(\"Count of unique values in card4:\")\n",
        "print(card4_counts)"
      ],
      "metadata": {
        "colab": {
          "base_uri": "https://localhost:8080/"
        },
        "id": "ACJMf9QxrPnC",
        "outputId": "141e7161-7c99-40d4-9735-cd31bc9dbb4d"
      },
      "execution_count": 15,
      "outputs": [
        {
          "output_type": "stream",
          "name": "stdout",
          "text": [
            "Count of unique values in card4:\n",
            "visa                384767\n",
            "mastercard          189217\n",
            "american express      8328\n",
            "discover              6651\n",
            "Name: card4, dtype: int64\n"
          ]
        }
      ]
    },
    {
      "cell_type": "code",
      "source": [
        "# show the unique values for card 6\n",
        "card6_counts = merged_df['card6'].value_counts()\n",
        "print(\"Count of unique values in card6:\")\n",
        "print(card4_counts)"
      ],
      "metadata": {
        "colab": {
          "base_uri": "https://localhost:8080/"
        },
        "id": "Tu7nPCuVsVTQ",
        "outputId": "4d1e2e42-3fca-4569-af24-637ae5431ab6"
      },
      "execution_count": 16,
      "outputs": [
        {
          "output_type": "stream",
          "name": "stdout",
          "text": [
            "Count of unique values in card6:\n",
            "visa                384767\n",
            "mastercard          189217\n",
            "american express      8328\n",
            "discover              6651\n",
            "Name: card4, dtype: int64\n"
          ]
        }
      ]
    },
    {
      "cell_type": "code",
      "source": [
        "# show the uniqe values for isFlaggedFraud\n",
        "devicetype_counts = merged_df['DeviceType'].value_counts()\n",
        "print(\"Count of unique values in DeviceType:\")\n",
        "print(devicetype_counts)"
      ],
      "metadata": {
        "colab": {
          "base_uri": "https://localhost:8080/"
        },
        "id": "RgvhiE9NWJb8",
        "outputId": "898642df-9358-4963-ede1-3e28205e7e46"
      },
      "execution_count": 17,
      "outputs": [
        {
          "output_type": "stream",
          "name": "stdout",
          "text": [
            "Count of unique values in DeviceType:\n",
            "desktop    85165\n",
            "mobile     55645\n",
            "Name: DeviceType, dtype: int64\n"
          ]
        }
      ]
    },
    {
      "cell_type": "code",
      "source": [
        "# descriptive statistics for the numerical data\n",
        "merged_df.describe()"
      ],
      "metadata": {
        "colab": {
          "base_uri": "https://localhost:8080/",
          "height": 361
        },
        "id": "MfjrOqBmuwsg",
        "outputId": "19b598db-3118-42ea-91b3-bac7459454fd"
      },
      "execution_count": 18,
      "outputs": [
        {
          "output_type": "execute_result",
          "data": {
            "text/plain": [
              "       TransactionID        isFraud  TransactionAmt          card1  \\\n",
              "count   5.905400e+05  590540.000000   590540.000000  590540.000000   \n",
              "mean    3.282270e+06       0.034990      135.027176    9898.734658   \n",
              "std     1.704744e+05       0.183755      239.162522    4901.170153   \n",
              "min     2.987000e+06       0.000000        0.251000    1000.000000   \n",
              "25%     3.134635e+06       0.000000       43.321000    6019.000000   \n",
              "50%     3.282270e+06       0.000000       68.769000    9678.000000   \n",
              "75%     3.429904e+06       0.000000      125.000000   14184.000000   \n",
              "max     3.577539e+06       1.000000    31937.391000   18396.000000   \n",
              "\n",
              "               card2          card3          card5          addr1  \\\n",
              "count  581607.000000  588975.000000  586281.000000  524834.000000   \n",
              "mean      362.555488     153.194925     199.278897     290.733794   \n",
              "std       157.793246      11.336444      41.244453     101.741072   \n",
              "min       100.000000     100.000000     100.000000     100.000000   \n",
              "25%       214.000000     150.000000     166.000000     204.000000   \n",
              "50%       361.000000     150.000000     226.000000     299.000000   \n",
              "75%       512.000000     150.000000     226.000000     330.000000   \n",
              "max       600.000000     231.000000     237.000000     540.000000   \n",
              "\n",
              "               addr2  \n",
              "count  524834.000000  \n",
              "mean       86.800630  \n",
              "std         2.690623  \n",
              "min        10.000000  \n",
              "25%        87.000000  \n",
              "50%        87.000000  \n",
              "75%        87.000000  \n",
              "max       102.000000  "
            ],
            "text/html": [
              "\n",
              "  <div id=\"df-aafc201c-3cb0-453e-8f37-2e4bf03dc862\">\n",
              "    <div class=\"colab-df-container\">\n",
              "      <div>\n",
              "<style scoped>\n",
              "    .dataframe tbody tr th:only-of-type {\n",
              "        vertical-align: middle;\n",
              "    }\n",
              "\n",
              "    .dataframe tbody tr th {\n",
              "        vertical-align: top;\n",
              "    }\n",
              "\n",
              "    .dataframe thead th {\n",
              "        text-align: right;\n",
              "    }\n",
              "</style>\n",
              "<table border=\"1\" class=\"dataframe\">\n",
              "  <thead>\n",
              "    <tr style=\"text-align: right;\">\n",
              "      <th></th>\n",
              "      <th>TransactionID</th>\n",
              "      <th>isFraud</th>\n",
              "      <th>TransactionAmt</th>\n",
              "      <th>card1</th>\n",
              "      <th>card2</th>\n",
              "      <th>card3</th>\n",
              "      <th>card5</th>\n",
              "      <th>addr1</th>\n",
              "      <th>addr2</th>\n",
              "    </tr>\n",
              "  </thead>\n",
              "  <tbody>\n",
              "    <tr>\n",
              "      <th>count</th>\n",
              "      <td>5.905400e+05</td>\n",
              "      <td>590540.000000</td>\n",
              "      <td>590540.000000</td>\n",
              "      <td>590540.000000</td>\n",
              "      <td>581607.000000</td>\n",
              "      <td>588975.000000</td>\n",
              "      <td>586281.000000</td>\n",
              "      <td>524834.000000</td>\n",
              "      <td>524834.000000</td>\n",
              "    </tr>\n",
              "    <tr>\n",
              "      <th>mean</th>\n",
              "      <td>3.282270e+06</td>\n",
              "      <td>0.034990</td>\n",
              "      <td>135.027176</td>\n",
              "      <td>9898.734658</td>\n",
              "      <td>362.555488</td>\n",
              "      <td>153.194925</td>\n",
              "      <td>199.278897</td>\n",
              "      <td>290.733794</td>\n",
              "      <td>86.800630</td>\n",
              "    </tr>\n",
              "    <tr>\n",
              "      <th>std</th>\n",
              "      <td>1.704744e+05</td>\n",
              "      <td>0.183755</td>\n",
              "      <td>239.162522</td>\n",
              "      <td>4901.170153</td>\n",
              "      <td>157.793246</td>\n",
              "      <td>11.336444</td>\n",
              "      <td>41.244453</td>\n",
              "      <td>101.741072</td>\n",
              "      <td>2.690623</td>\n",
              "    </tr>\n",
              "    <tr>\n",
              "      <th>min</th>\n",
              "      <td>2.987000e+06</td>\n",
              "      <td>0.000000</td>\n",
              "      <td>0.251000</td>\n",
              "      <td>1000.000000</td>\n",
              "      <td>100.000000</td>\n",
              "      <td>100.000000</td>\n",
              "      <td>100.000000</td>\n",
              "      <td>100.000000</td>\n",
              "      <td>10.000000</td>\n",
              "    </tr>\n",
              "    <tr>\n",
              "      <th>25%</th>\n",
              "      <td>3.134635e+06</td>\n",
              "      <td>0.000000</td>\n",
              "      <td>43.321000</td>\n",
              "      <td>6019.000000</td>\n",
              "      <td>214.000000</td>\n",
              "      <td>150.000000</td>\n",
              "      <td>166.000000</td>\n",
              "      <td>204.000000</td>\n",
              "      <td>87.000000</td>\n",
              "    </tr>\n",
              "    <tr>\n",
              "      <th>50%</th>\n",
              "      <td>3.282270e+06</td>\n",
              "      <td>0.000000</td>\n",
              "      <td>68.769000</td>\n",
              "      <td>9678.000000</td>\n",
              "      <td>361.000000</td>\n",
              "      <td>150.000000</td>\n",
              "      <td>226.000000</td>\n",
              "      <td>299.000000</td>\n",
              "      <td>87.000000</td>\n",
              "    </tr>\n",
              "    <tr>\n",
              "      <th>75%</th>\n",
              "      <td>3.429904e+06</td>\n",
              "      <td>0.000000</td>\n",
              "      <td>125.000000</td>\n",
              "      <td>14184.000000</td>\n",
              "      <td>512.000000</td>\n",
              "      <td>150.000000</td>\n",
              "      <td>226.000000</td>\n",
              "      <td>330.000000</td>\n",
              "      <td>87.000000</td>\n",
              "    </tr>\n",
              "    <tr>\n",
              "      <th>max</th>\n",
              "      <td>3.577539e+06</td>\n",
              "      <td>1.000000</td>\n",
              "      <td>31937.391000</td>\n",
              "      <td>18396.000000</td>\n",
              "      <td>600.000000</td>\n",
              "      <td>231.000000</td>\n",
              "      <td>237.000000</td>\n",
              "      <td>540.000000</td>\n",
              "      <td>102.000000</td>\n",
              "    </tr>\n",
              "  </tbody>\n",
              "</table>\n",
              "</div>\n",
              "      <button class=\"colab-df-convert\" onclick=\"convertToInteractive('df-aafc201c-3cb0-453e-8f37-2e4bf03dc862')\"\n",
              "              title=\"Convert this dataframe to an interactive table.\"\n",
              "              style=\"display:none;\">\n",
              "        \n",
              "  <svg xmlns=\"http://www.w3.org/2000/svg\" height=\"24px\"viewBox=\"0 0 24 24\"\n",
              "       width=\"24px\">\n",
              "    <path d=\"M0 0h24v24H0V0z\" fill=\"none\"/>\n",
              "    <path d=\"M18.56 5.44l.94 2.06.94-2.06 2.06-.94-2.06-.94-.94-2.06-.94 2.06-2.06.94zm-11 1L8.5 8.5l.94-2.06 2.06-.94-2.06-.94L8.5 2.5l-.94 2.06-2.06.94zm10 10l.94 2.06.94-2.06 2.06-.94-2.06-.94-.94-2.06-.94 2.06-2.06.94z\"/><path d=\"M17.41 7.96l-1.37-1.37c-.4-.4-.92-.59-1.43-.59-.52 0-1.04.2-1.43.59L10.3 9.45l-7.72 7.72c-.78.78-.78 2.05 0 2.83L4 21.41c.39.39.9.59 1.41.59.51 0 1.02-.2 1.41-.59l7.78-7.78 2.81-2.81c.8-.78.8-2.07 0-2.86zM5.41 20L4 18.59l7.72-7.72 1.47 1.35L5.41 20z\"/>\n",
              "  </svg>\n",
              "      </button>\n",
              "      \n",
              "  <style>\n",
              "    .colab-df-container {\n",
              "      display:flex;\n",
              "      flex-wrap:wrap;\n",
              "      gap: 12px;\n",
              "    }\n",
              "\n",
              "    .colab-df-convert {\n",
              "      background-color: #E8F0FE;\n",
              "      border: none;\n",
              "      border-radius: 50%;\n",
              "      cursor: pointer;\n",
              "      display: none;\n",
              "      fill: #1967D2;\n",
              "      height: 32px;\n",
              "      padding: 0 0 0 0;\n",
              "      width: 32px;\n",
              "    }\n",
              "\n",
              "    .colab-df-convert:hover {\n",
              "      background-color: #E2EBFA;\n",
              "      box-shadow: 0px 1px 2px rgba(60, 64, 67, 0.3), 0px 1px 3px 1px rgba(60, 64, 67, 0.15);\n",
              "      fill: #174EA6;\n",
              "    }\n",
              "\n",
              "    [theme=dark] .colab-df-convert {\n",
              "      background-color: #3B4455;\n",
              "      fill: #D2E3FC;\n",
              "    }\n",
              "\n",
              "    [theme=dark] .colab-df-convert:hover {\n",
              "      background-color: #434B5C;\n",
              "      box-shadow: 0px 1px 3px 1px rgba(0, 0, 0, 0.15);\n",
              "      filter: drop-shadow(0px 1px 2px rgba(0, 0, 0, 0.3));\n",
              "      fill: #FFFFFF;\n",
              "    }\n",
              "  </style>\n",
              "\n",
              "      <script>\n",
              "        const buttonEl =\n",
              "          document.querySelector('#df-aafc201c-3cb0-453e-8f37-2e4bf03dc862 button.colab-df-convert');\n",
              "        buttonEl.style.display =\n",
              "          google.colab.kernel.accessAllowed ? 'block' : 'none';\n",
              "\n",
              "        async function convertToInteractive(key) {\n",
              "          const element = document.querySelector('#df-aafc201c-3cb0-453e-8f37-2e4bf03dc862');\n",
              "          const dataTable =\n",
              "            await google.colab.kernel.invokeFunction('convertToInteractive',\n",
              "                                                     [key], {});\n",
              "          if (!dataTable) return;\n",
              "\n",
              "          const docLinkHtml = 'Like what you see? Visit the ' +\n",
              "            '<a target=\"_blank\" href=https://colab.research.google.com/notebooks/data_table.ipynb>data table notebook</a>'\n",
              "            + ' to learn more about interactive tables.';\n",
              "          element.innerHTML = '';\n",
              "          dataTable['output_type'] = 'display_data';\n",
              "          await google.colab.output.renderOutput(dataTable, element);\n",
              "          const docLink = document.createElement('div');\n",
              "          docLink.innerHTML = docLinkHtml;\n",
              "          element.appendChild(docLink);\n",
              "        }\n",
              "      </script>\n",
              "    </div>\n",
              "  </div>\n",
              "  "
            ]
          },
          "metadata": {},
          "execution_count": 18
        }
      ]
    },
    {
      "cell_type": "code",
      "source": [
        "duplicated_rows = merged_df[merged_df.duplicated()]\n",
        "if duplicated_rows.empty:\n",
        "    print(\"There are no duplicates.\")\n",
        "else:\n",
        "    print(\"Duplicate Rows:\")\n",
        "    print(duplicated_rows)"
      ],
      "metadata": {
        "colab": {
          "base_uri": "https://localhost:8080/"
        },
        "id": "pZKDzlxu0WqV",
        "outputId": "2f9ebf26-d3b7-4455-cea1-0cc80d9bcfd7"
      },
      "execution_count": 20,
      "outputs": [
        {
          "output_type": "stream",
          "name": "stdout",
          "text": [
            "There are no duplicates.\n"
          ]
        }
      ]
    }
  ]
}